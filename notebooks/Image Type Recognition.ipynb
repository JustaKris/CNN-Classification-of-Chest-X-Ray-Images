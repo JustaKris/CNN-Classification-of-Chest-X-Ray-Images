{
 "cells": [
  {
   "cell_type": "code",
   "execution_count": 1,
   "id": "34eb667d",
   "metadata": {},
   "outputs": [
    {
     "name": "stderr",
     "output_type": "stream",
     "text": [
      "c:\\Users\\ksbon\\Desktop\\Programing\\CNN-Classification-of-Chest-X-Ray-Images\\venv\\Lib\\site-packages\\tqdm\\auto.py:21: TqdmWarning: IProgress not found. Please update jupyter and ipywidgets. See https://ipywidgets.readthedocs.io/en/stable/user_install.html\n",
      "  from .autonotebook import tqdm as notebook_tqdm\n"
     ]
    }
   ],
   "source": [
    "import torch\n",
    "from PIL import Image\n",
    "from transformers import CLIPProcessor, CLIPModel"
   ]
  },
  {
   "cell_type": "code",
   "execution_count": 2,
   "id": "1d9814b2",
   "metadata": {},
   "outputs": [
    {
     "name": "stderr",
     "output_type": "stream",
     "text": [
      "c:\\Users\\ksbon\\Desktop\\Programing\\CNN-Classification-of-Chest-X-Ray-Images\\venv\\Lib\\site-packages\\huggingface_hub\\file_download.py:143: UserWarning: `huggingface_hub` cache-system uses symlinks by default to efficiently store duplicated files but your machine does not support them in C:\\Users\\ksbon\\.cache\\huggingface\\hub\\models--openai--clip-vit-base-patch32. Caching files will still work but in a degraded version that might require more space on your disk. This warning can be disabled by setting the `HF_HUB_DISABLE_SYMLINKS_WARNING` environment variable. For more details, see https://huggingface.co/docs/huggingface_hub/how-to-cache#limitations.\n",
      "To support symlinks on Windows, you either need to activate Developer Mode or to run Python as an administrator. In order to activate developer mode, see this article: https://docs.microsoft.com/en-us/windows/apps/get-started/enable-your-device-for-development\n",
      "  warnings.warn(message)\n",
      "Using a slow image processor as `use_fast` is unset and a slow processor was saved with this model. `use_fast=True` will be the default behavior in v4.52, even if the model was saved with a slow processor. This will result in minor differences in outputs. You'll still be able to use a slow processor with `use_fast=False`.\n"
     ]
    }
   ],
   "source": [
    "# Load model + processor\n",
    "model = CLIPModel.from_pretrained(\"openai/clip-vit-base-patch32\")\n",
    "processor = CLIPProcessor.from_pretrained(\"openai/clip-vit-base-patch32\")"
   ]
  },
  {
   "cell_type": "code",
   "execution_count": null,
   "id": "ce92fab4",
   "metadata": {},
   "outputs": [],
   "source": [
    "# Load your image (can be any format)\n",
    "image = Image.open(r\"..\\data\\Chest X-Rays\\val\\COVID19\\COVID19(568).jpg\").convert(\"RGB\")\n",
    "\n",
    "# Define candidate labels (text descriptions)\n",
    "text_descriptions = [\n",
    "    \"a chest X-ray\",\n",
    "    \"a CT scan\",\n",
    "    \"a natural photograph\",\n",
    "    \"a painting\",\n",
    "    \"a selfie\",\n",
    "    \"a dog\",\n",
    "    \"a screenshot\"\n",
    "]\n",
    "\n",
    "# Prepare inputs\n",
    "inputs = processor(text=text_descriptions, images=image, return_tensors=\"pt\", padding=True)"
   ]
  },
  {
   "cell_type": "code",
   "execution_count": 10,
   "id": "7e16bdf4",
   "metadata": {},
   "outputs": [
    {
     "name": "stdout",
     "output_type": "stream",
     "text": [
      "Top label: a chest X-ray\n",
      "Confidence: 0.9951\n"
     ]
    }
   ],
   "source": [
    "# Run model\n",
    "outputs = model(**inputs)\n",
    "logits_per_image = outputs.logits_per_image  # shape: [1, N_texts]\n",
    "probs = logits_per_image.softmax(dim=1)      # softmax over text options\n",
    "\n",
    "# Get top match\n",
    "top_index = torch.argmax(probs)\n",
    "top_label = text_descriptions[top_index]\n",
    "\n",
    "print(f\"Top label: {top_label}\")\n",
    "print(f\"Confidence: {probs[0, top_index].item():.4f}\")"
   ]
  },
  {
   "cell_type": "code",
   "execution_count": null,
   "id": "4b987104",
   "metadata": {},
   "outputs": [],
   "source": []
  },
  {
   "cell_type": "code",
   "execution_count": null,
   "id": "90ac1fef",
   "metadata": {},
   "outputs": [],
   "source": []
  }
 ],
 "metadata": {
  "kernelspec": {
   "display_name": "Python 3",
   "language": "python",
   "name": "python3"
  },
  "language_info": {
   "codemirror_mode": {
    "name": "ipython",
    "version": 3
   },
   "file_extension": ".py",
   "mimetype": "text/x-python",
   "name": "python",
   "nbconvert_exporter": "python",
   "pygments_lexer": "ipython3",
   "version": "3.11.0"
  }
 },
 "nbformat": 4,
 "nbformat_minor": 5
}
